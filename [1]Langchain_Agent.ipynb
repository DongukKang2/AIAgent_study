{
 "cells": [
  {
   "cell_type": "markdown",
   "metadata": {
    "id": "ixc59jt_OXoF"
   },
   "source": [
    "### 1. Implementing Agents with Langchain\n",
    "Install commonly used libraries."
   ]
  },
  {
   "cell_type": "code",
   "execution_count": null,
   "metadata": {
    "id": "JD7hKBUaONjw"
   },
   "outputs": [],
   "source": [
    "!pip install langchain openai wikipedia langchain-community \"httpx==0.27.2\" # Use '%pip install' or '!pip install'"
   ]
  },
  {
   "cell_type": "code",
   "execution_count": null,
   "metadata": {
    "id": "gYgALprbOgeE"
   },
   "outputs": [],
   "source": [
    "import os\n",
    "from langchain.chat_models import ChatOpenAI\n",
    "\n",
    "os.environ[\"OPENAI_API_KEY\"] = os.getenv('OPENAI_API_KEY') # Enter an API starting with 'sk-'\n",
    "\n",
    "llm = ChatOpenAI(model=\"gpt-4o-2024-11-20\")"
   ]
  },
  {
   "cell_type": "markdown",
   "metadata": {
    "id": "okN26QxWP73l"
   },
   "source": [
    "### (1) Zero-shot ReAct\n",
    "The agent to be used is Zero-shot ReAct.\n",
    "\n",
    "To do this, you need to specify which tool to use.\n",
    "\n",
    "We chose Wikipedia for search purposes and llm-math for mathematical questions.\n"
   ]
  },
  {
   "cell_type": "code",
   "execution_count": null,
   "metadata": {
    "id": "bIitA-gaPr-v"
   },
   "outputs": [],
   "source": [
    "from langchain.agents import initialize_agent, load_tools, AgentType\n",
    "\n",
    "tools = load_tools([\"wikipedia\" ,\"llm-math\"], llm=llm)"
   ]
  },
  {
   "cell_type": "code",
   "execution_count": null,
   "metadata": {
    "id": "CrdarnPxRHH8"
   },
   "outputs": [],
   "source": [
    "agent = initialize_agent(tools,\n",
    "                         llm,\n",
    "                         agent=AgentType.ZERO_SHOT_REACT_DESCRIPTION,\n",
    "                         handle_parsing_errors=True,\n",
    "                         verbose = True) # Initialize conversational agent\n",
    "\n",
    "# Send questions to the agent and generate responses.\n",
    "agent.invoke(\"When is the best season for exercising?\")"
   ]
  },
  {
   "cell_type": "markdown",
   "metadata": {
    "id": "04ZvITjVXSI1"
   },
   "source": [
    "### (2) Conversational ReAct\n",
    "\n",
    "Next, let's apply the Conversational ReAct type.\n",
    "\n",
    "To use this agent, enter agent=‘conversational-react-description’.\n",
    "\n",
    "In the following example, we will ask Ed Sheeran's age because we used a tool called llm-math designed to solve math problems."
   ]
  },
  {
   "cell_type": "code",
   "execution_count": null,
   "metadata": {
    "id": "9gp4emJeTmk6"
   },
   "outputs": [],
   "source": [
    "from langchain.memory import ConversationBufferMemory\n",
    "\n",
    "# Specify tools for agents to use Tools for solving math-related problems\n",
    "tools = load_tools([\"llm-math\"], llm=llm)\n",
    "memory = ConversationBufferMemory(memory_key=\"chat_history\")\n",
    "\n",
    "# Specify keys for saving conversation records\n",
    "conversational_agent = initialize_agent(agent='conversational-react-description',\n",
    "                                        tools=tools,\n",
    "                                        llm=llm,\n",
    "                                        verbose=True, # Output agent internal operations for debugging purposes,\n",
    "                                        max_iterations=3, # Maximum number of times an agent can use a tool\n",
    "                                        memory=memory)\n",
    "conversational_agent.invoke(\"Who is Ed Sheeran, and how old is he in 2025?\")"
   ]
  },
  {
   "cell_type": "markdown",
   "metadata": {
    "id": "GiNKXwNpaZsY"
   },
   "source": [
    "### (3) Self-ask with search\n",
    "\n",
    "The following is Self-ask with search agent.\n",
    "First, import the necessary libraries.\n",
    "\n",
    "As explained earlier, TavilyAnswer is a library used for searching."
   ]
  },
  {
   "cell_type": "code",
   "execution_count": null,
   "metadata": {
    "id": "CGMrDId8Xor4"
   },
   "outputs": [],
   "source": [
    "from langchain import hub\n",
    "from langchain.agents import AgentExecutor, create_self_ask_with_search_agent\n",
    "from langchain_community.tools.tavily_search import TavilyAnswer"
   ]
  },
  {
   "cell_type": "code",
   "execution_count": null,
   "metadata": {
    "id": "UUpZcKbSabwV"
   },
   "outputs": [],
   "source": [
    "import os\n",
    "os.environ[\"TAVILY_API_KEY\"] = \"tvly-\" # Enter the API key starting with tvly"
   ]
  },
  {
   "cell_type": "markdown",
   "metadata": {
    "id": "mW3gmr8Ja5fm"
   },
   "source": [
    "In this example, we use the AgentExecutor function to use the agent.\n",
    "\n",
    "Let's ask the question, “Describe AI Agent in three sentences.”"
   ]
  },
  {
   "cell_type": "code",
   "execution_count": null,
   "metadata": {
    "id": "4ro1Zsx-a1QS"
   },
   "outputs": [],
   "source": [
    "# Set the tool name so that the agent can use it when referring to this tool later.\n",
    "tools = [TavilyAnswer(max_results=5, name=\"Intermediate Answer\")]\n",
    "\n",
    "# Get the self-ask-with-search prompt from the Langchain Prompt Hub.\n",
    "prompt = hub.pull(\"hwchase17/self-ask-with-search\")\n",
    "\n",
    "# Create an agent that implements the self-ask with search function.\n",
    "agent = create_self_ask_with_search_agent(llm, tools, prompt)\n",
    "\n",
    "agent_executor = AgentExecutor(\n",
    "\tagent=agent,\n",
    "\ttools=tools,\n",
    "\thandel_parsing_errors=True\n",
    ") # Using AgentExecutor to use agents\n",
    "\n",
    "agent_executor.invoke({\"input\": \"Describe AI Agent in three sentences.\"})\n"
   ]
  },
  {
   "cell_type": "markdown",
   "metadata": {
    "id": "EAn09as0vrQR"
   },
   "source": [
    "### (4) ReAct docstore\n",
    "Finally, there is ReAct docstore.\n",
    "\n",
    "This time, we will learn how to search and view documents on Wikipedia using an agent.\n",
    "\n",
    "First, explore the Wikipedia document repository and set up tools that allow you to search and look up documents."
   ]
  },
  {
   "cell_type": "code",
   "execution_count": null,
   "metadata": {
    "id": "lkPdWkQ2diCx"
   },
   "outputs": [],
   "source": [
    "# Using Wikipedia as a document repository\n",
    "from langchain.docstore.wikipedia import Wikipedia\n",
    "from langchain.agents import Tool"
   ]
  },
  {
   "cell_type": "code",
   "execution_count": null,
   "metadata": {
    "id": "1nivmeNDkixG"
   },
   "outputs": [],
   "source": [
    "# To explore the database where the documents are stored (Wikipedia)\n",
    "from langchain.agents.react.base import DocstoreExplorer\n",
    "docstore = DocstoreExplorer(Wikipedia())\n",
    "tools = [\n",
    "    Tool(\n",
    "        name=\"Search\",\n",
    "        func=docstore.search, # Keyword-based search\n",
    "        description=\"Search for terms in docstore.\",\n",
    "    ),\n",
    "    Tool(\n",
    "        name = \"Lookup\",\n",
    "        func=docstore.lookup, # Search using uniquely identifiable keys\n",
    "        description=\"Search for definitions of terms in docstore.\",\n",
    "    )\n",
    "]   # Define tools available to agents"
   ]
  },
  {
   "cell_type": "markdown",
   "metadata": {
    "id": "acXKkF8tymqq"
   },
   "source": [
    "Initialize the langchain."
   ]
  },
  {
   "cell_type": "code",
   "execution_count": null,
   "metadata": {
    "id": "PUvG-dLgyHa9"
   },
   "outputs": [],
   "source": [
    "react = initialize_agent(\n",
    "    tools = tools,\n",
    "    llm = llm,\n",
    "    agent = AgentType.REACT_DOCSTORE, # Specify agent type\n",
    "    handle_parsing_errors = True, # Handle syntax errors that occur during operation\n",
    "    max_iterations=5, # Specify the maximum number of times to repeat the operation\n",
    "    max_execution_time=5, # Set the maximum operation time in seconds\n",
    "    verbose=True, # Output the internal operations of the agent for debugging purposes\n",
    ") # Initialize the Langchain agent"
   ]
  },
  {
   "cell_type": "markdown",
   "metadata": {
    "id": "NlB3Rljj2web"
   },
   "source": [
    "Use an agent to search for and output answers to user questions."
   ]
  },
  {
   "cell_type": "code",
   "execution_count": null,
   "metadata": {
    "id": "NQ46F_QJ2Sbl"
   },
   "outputs": [],
   "source": [
    "def query_data(query):\n",
    "    try:\n",
    "        response = react.invoke(query) # Send query to agent\n",
    "        print(\"-----------\", response) # Output results (for debugging)\n",
    "        return response # Return search results\n",
    "    except Exception as e:\n",
    "        print(f\"Error: {e}\") # Output error message\n",
    "        raise # Repeat error (for additional debugging)\n",
    "\n",
    "query = \"What is the best way to exercise in the hot summer?\"\n",
    "response = query_data(query)\n",
    "print(response['output']) # Output agent's final answer"
   ]
  },
  {
   "cell_type": "code",
   "execution_count": null,
   "metadata": {
    "id": "2tJT775kO6XR"
   },
   "outputs": [],
   "source": [
    "!rm -rf Auto-GPT"
   ]
  },
  {
   "cell_type": "code",
   "execution_count": null,
   "metadata": {
    "id": "1c-oFGChO6xC"
   },
   "outputs": [],
   "source": []
  }
 ],
 "metadata": {
  "colab": {
   "authorship_tag": "ABX9TyN3+HFmawNpUEv5wDFRbnii",
   "private_outputs": true,
   "provenance": []
  },
  "kernelspec": {
   "display_name": "Python 3",
   "name": "python3"
  },
  "language_info": {
   "name": "python"
  }
 },
 "nbformat": 4,
 "nbformat_minor": 0
}

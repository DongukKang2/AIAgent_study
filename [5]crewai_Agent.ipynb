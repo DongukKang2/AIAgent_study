{
 "cells": [
  {
   "cell_type": "markdown",
   "metadata": {
    "id": "NzMGMxqWS67k"
   },
   "source": [
    "# (1) 데이터 검색 및 내용 작성하기"
   ]
  },
  {
   "cell_type": "code",
   "execution_count": null,
   "metadata": {
    "id": "kD_1OgVgCZ6W"
   },
   "outputs": [],
   "source": [
    "!pip install 'crewai[tools]'"
   ]
  },
  {
   "cell_type": "code",
   "execution_count": null,
   "metadata": {
    "id": "Fp5Ga7owCg-m"
   },
   "outputs": [],
   "source": [
    "import os\n",
    "os.environ[\"OPENAI_API_KEY\"] = os.getenv('OPENAI_API_KEY') # openai 키 입력\n",
    "os.environ[\"SERPER_API_KEY\"] = os.getenv('SERPER_API_KEY') # SERPER 키 입력"
   ]
  },
  {
   "cell_type": "code",
   "execution_count": null,
   "metadata": {
    "id": "JvaPkdK_DX7e"
   },
   "outputs": [],
   "source": [
    "from crewai import Agent, Task, Crew, Process\n",
    "from crewai_tools import SerperDevTool\n",
    "\n",
    "# 구글 검색 API를 활용해 정보를 검색하는 기능을 제공\n",
    "search_tool = SerperDevTool()\n",
    "\n",
    "searching=Agent(\n",
    "    role='Searching',\n",
    "    goal='{topic}에 대한 적절한 내용을 찾아주세요',\n",
    "    verbose=True,\n",
    "    memory=True,\n",
    "    backstory=(\"당신은 주제에 대한 검색에 최적화되어 있습니다.\"),\n",
    "    tools=[search_tool],\n",
    "    allow_delegation=True # 다른 에이전트에 작업을 위임할 수 있게 허용\n",
    ")   # searching 에이전트\n",
    "\n",
    "answer=Agent(\n",
    "    role='Writing',\n",
    "    goal='{topic}에 대한 내용을 설명하세요',\n",
    "    verbose=True,\n",
    "    memory=True,\n",
    "    backstory=(\"간결하면서도 명확하게 작성하세요.\"),\n",
    "    tools=[search_tool],\n",
    "    allow_delegation=False \n",
    ")   # answer 에이전트"
   ]
  },
  {
   "cell_type": "code",
   "execution_count": null,
   "metadata": {
    "id": "r0OCPZtCHyXV"
   },
   "outputs": [],
   "source": [
    "from crewai import Task # 크루AI에서 특정 작업을 정의하고 실행\n",
    "\n",
    "search_task = Task(\n",
    "    description=(\n",
    "        \"{topic}에서 주목할 만한 키워드를 파악하세요. 장점과 단점을 식별하고 전반적인 관점으로 분석하세요.\"\n",
    "    ),\n",
    "    expected_output='{topic}에 검색 결과를 3문단 분량으로 정리하세요.',\n",
    "    tools=[search_tool],\n",
    "    agent=searching,\n",
    ")   # 첫 번째 작업, searching 에이전트를 사용해 {topic}에 대한 검색 결과를 작성\n",
    "\n",
    "answer_task = Task(\n",
    "    description=(\n",
    "        \"{topic}에 대한 통찰력 있는 기사를 작성하세요. 최신 동향과 그것의 파급력을 중점적으로 다루세요.\"\n",
    "    ),\n",
    "    expected_output='{topic}에 관한 4문단짜리 기사로, 마크다운 형식으로 작성하세요',\n",
    "    tools=[search_tool],\n",
    "    agent=answer,\n",
    "    async_execution=False,\n",
    "    output_file='/content/new-blog-post.md' # 결과 지정한 파일에 저장\n",
    ")   # 두 번째 작업, answer 에이전트를사용하여 {topic}에 대한 기사를 작성\n"
   ]
  },
  {
   "cell_type": "code",
   "execution_count": null,
   "metadata": {
    "id": "fLeBGLByJbJp"
   },
   "outputs": [],
   "source": [
    "result = crew.kickoff(\n",
    "    inputs={'topic': 'AI 에이전트가 AI 산업에 미치는 영향은?'}\n",
    ")   # crew 객체에 정의된 작업과 에이전트를 실행\n",
    "print(result)"
   ]
  },
  {
   "cell_type": "markdown",
   "metadata": {
    "id": "egKiHawqSy_y"
   },
   "source": [
    "# (2) 유튜브 채널에서 데이터 검색"
   ]
  },
  {
   "cell_type": "code",
   "execution_count": null,
   "metadata": {
    "id": "3YgzjtyzKrEo"
   },
   "outputs": [],
   "source": [
    "!pip install 'crewai[tools]'"
   ]
  },
  {
   "cell_type": "code",
   "execution_count": null,
   "metadata": {
    "id": "6hcK4xcfTBoD"
   },
   "outputs": [],
   "source": [
    "import os\n",
    "os.environ[\"OPENAI_API_KEY\"] = os.getenv('OPENAI_API_KEY') # openai 키 입력"
   ]
  },
  {
   "cell_type": "code",
   "execution_count": null,
   "metadata": {
    "id": "5d654c1c"
   },
   "outputs": [],
   "source": [
    "!pip install yt_dlp==2023.11.14 youtube-transcript-api==0.6.1"
   ]
  },
  {
   "cell_type": "code",
   "execution_count": null,
   "metadata": {
    "id": "-qlx3KfQTd9F"
   },
   "outputs": [],
   "source": [
    "from crewai_tools import YoutubeChannelSearchTool\n",
    "\n",
    "# 특정 유튜브 채널에서 데이터 검색하기\n",
    "yt_tool = YoutubeChannelSearchTool(\n",
    "    youtube_channel_handle='@AI-km1yn'\n",
    ")"
   ]
  },
  {
   "cell_type": "code",
   "execution_count": null,
   "metadata": {
    "id": "sXACwtVqUAxp"
   },
   "outputs": [],
   "source": [
    "from crewai import Agent, LLM\n",
    "\n",
    "searching = Agent(\n",
    "    role='YouTube 비디오에서 전문가 수준의 콘텐츠를 연구',\n",
    "    goal='{topic}와 관련된 유튜브 비디오의 모든 콘텐츠를 검색하세요.',\n",
    "    verbose=True,\n",
    "    memory=True,\n",
    "    backstory=(\n",
    "        'AI에 관한 유튜브 비디오를 이해하고 파악하는데 전문가.'\n",
    "        '머신러닝(Machine Learning), 딥러닝(Deep Learning), 생성형 AI(Generative AI)에 관한 유튜브 비디오를 이해하고 분석하며, 관련 콘텐츠를 제공하는 전문가.'\n",
    "    ),\n",
    "    tool = [yt_tool],\n",
    "    allow_delegation=True\n",
    ")   # searching 에이전트, 유튜브에서 도메인 전문가 수준의 콘텐츠를 검색하고 분석\n",
    "\n",
    "answer = Agent(\n",
    "    role='기사 작성자',\n",
    "    goal='유튜브 비디오 주제: {topic}에 대한 체계적이고 유익한 기사를 작성하세요.',\n",
    "    verbose=True,\n",
    "    memory=True,\n",
    "    backstory=(\n",
    "        '복잡한 기술적인 내용을 명확히 이해하고 체계적으로 답변을 작성하세요.'\n",
    "    ),\n",
    "    tool = [yt_tool],\n",
    "    allow_delegation=False\n",
    ")   # answer 에이전트, searching 에이전트가 수집한 정보를 바탕으로 기사를 작성"
   ]
  },
  {
   "cell_type": "code",
   "execution_count": null,
   "metadata": {
    "id": "MFNYedTjaDx7"
   },
   "outputs": [],
   "source": [
    "from crewai import Task\n",
    "\n",
    "search_task = Task(\n",
    "    description=(\n",
    "        \"YouTube 비디오 {topic}을 검색하세요.\"\n",
    "        \"채널에서 비디오에 대한 전문적이고 자세한 콘텐츠나 정보를 가져오세요.\"\n",
    "    ),\n",
    "    expected_output='{topic}을 주제로 검색한 내용을 4단락으로 정리하세요.', # 작업의 예상 결과\n",
    "    tools=[yt_tool],\n",
    "    agent=searching\n",
    ")   # search_task는 주어진 {topic}과 관련된 유튜브 데이터를 수집하고 분석\n",
    "\n",
    "answer_task = Task(\n",
    "    description=(\n",
    "        \"YouTube 채널의 비디오에서 {topic}에 대한 기사를 작성하세요.\"\n",
    "    ),\n",
    "    expected_output='YouTube 채널의 내용을 요약하고, YouTube 채널 비디오를 바탕으로 {topic}에 대한 자세하고 체계적인 기사를 작성하세요.',\n",
    "    tools=[yt_tool],\n",
    "    agent=answer,\n",
    "    async_execution=False,\n",
    "    output_file='/content/new-article.md'\n",
    ")   # answer_task는 search_task에서 수집된 정보를 바탕으로 {topic}에 대한 기사를 작성"
   ]
  },
  {
   "cell_type": "code",
   "execution_count": null,
   "metadata": {
    "id": "PZ50TlS2e_Ou"
   },
   "outputs": [],
   "source": [
    "from crewai import Crew, Process\n",
    "\n",
    "crew = Crew( # crew 객체 생성\n",
    "    agents=[searching, answer],\n",
    "    tasks=[search_task, answer_task],\n",
    "    process=Process.sequential,\n",
    "    memory=True,\n",
    "    cache=True,\n",
    "    max_rpm=100,\n",
    "    share_crew=True\n",
    ")\n",
    "\n",
    "result = crew.kickoff(\n",
    "    inputs={'topic': 'AI Agent가 무엇인가요?'}\n",
    ")   # 작업 실행\n",
    "print(result)"
   ]
  },
  {
   "cell_type": "code",
   "execution_count": null,
   "metadata": {
    "id": "xutDYGuUhbcz"
   },
   "outputs": [],
   "source": []
  }
 ],
 "metadata": {
  "colab": {
   "authorship_tag": "ABX9TyOc/i96kHMC2LUwmvgopURN",
   "mount_file_id": "12PX61vWURiAUOnjSc4otMCEOIeuR3KKI",
   "private_outputs": true,
   "provenance": []
  },
  "kernelspec": {
   "display_name": "Python 3",
   "name": "python3"
  },
  "language_info": {
   "name": "python"
  }
 },
 "nbformat": 4,
 "nbformat_minor": 0
}

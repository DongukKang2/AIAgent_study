{
 "cells": [
  {
   "cell_type": "code",
   "execution_count": null,
   "metadata": {
    "id": "iAx7nahgHeW8"
   },
   "outputs": [],
   "source": [
    "from google.colab import drive\n",
    "drive.mount('/content/drive')"
   ]
  },
  {
   "cell_type": "code",
   "execution_count": null,
   "metadata": {
    "id": "l80hrusz8eSl"
   },
   "outputs": [],
   "source": [
    "!pip install llama-index langchain_community \"httpx==0.27.2\""
   ]
  },
  {
   "cell_type": "code",
   "execution_count": null,
   "metadata": {
    "id": "EiivknLU8ydc"
   },
   "outputs": [],
   "source": [
    "import os\n",
    "os.environ[\"OPENAI_API_KEY\"] = os.getenv('OPENAI_API_KEY')"
   ]
  },
  {
   "cell_type": "code",
   "execution_count": null,
   "metadata": {
    "id": "wpKNvAVY9nAo"
   },
   "outputs": [],
   "source": [
    "from llama_index.core.tools import FunctionTool\n",
    "import nest_asyncio\n",
    "\n",
    "nest_asyncio.apply()\n",
    "\n",
    "def multiply(a: int, b: int) -> int:\n",
    "    return a * b\n",
    "\n",
    "# multyply 함수를 곱하기 도구로 등록\n",
    "multiply_tool = FunctionTool.from_defaults(fn = multiply)\n",
    "\n",
    "def divide(a: int, b: int) -> int:\n",
    "    return a / b\n",
    "\n",
    "# divide 함수를 나누기 도구로 등록\n",
    "divide_tool = FunctionTool.from_defaults(fn = divide)\n",
    "tools = [multiply_tool, divide_tool] # 등록된 도구들을 리스트로 관리"
   ]
  },
  {
   "cell_type": "code",
   "execution_count": null,
   "metadata": {
    "id": "_vP_Sfv7-wv9"
   },
   "outputs": [],
   "source": [
    "from llama_index.core.agent import AgentRunner\n",
    "from llama_index.agent.openai import OpenAIAgentWorker\n",
    "from llama_index.llms.openai import OpenAI\n",
    "\n",
    "llm = OpenAI(model=\"gpt-4o\")\n",
    "agent_engine = OpenAIAgentWorker.from_tools(\n",
    "    tools,\n",
    "    llm = llm,\n",
    "    verbose = True\n",
    ") # 도구와 LLM을 겳합하여 에이전트를 생성\n",
    "agent = AgentRunner(agent_engine)\n",
    "# \"(121 * 12) / 4 결과는?\"을 작업으로 생성\n",
    "task = agent.create_task(\"(121*12)/4 결과는?\")\n",
    "\n",
    "# 모든 단계 실행\n",
    "# 작업 ID를 기반으로 아직 실행되지 않은 단계(step)들을 반환\n",
    "while len(agent.get_upcoming_steps(task.task_id)) > 0:\n",
    "    agent.run_step(task.task_id) # 한 번에 하나의 단계를 실행\n",
    "\n",
    "# 최종 응답 확인\n",
    "# 모든 단계가 완료되었는지 확인한 후, 작업의 최종 결과를 생성\n",
    "response = agent.finalize_response(task.task_id)\n",
    "print(f\"Final Response: {response}\")"
   ]
  },
  {
   "cell_type": "code",
   "execution_count": null,
   "metadata": {
    "id": "BiXaBdGTCLhT"
   },
   "outputs": [],
   "source": [
    "!pip install llama-index python-dotenv \"httpx==0.27.2\""
   ]
  },
  {
   "cell_type": "code",
   "execution_count": null,
   "metadata": {
    "id": "FiTmB5_mEZof"
   },
   "outputs": [],
   "source": [
    "import os\n",
    "import nest_asyncio\n",
    "\n",
    "from llama_index.core import VectorStoreIndex, SimpleDirectoryReader\n",
    "from llama_index.core.tools import QueryEngineTool, ToolMetadata\n",
    "from llama_index.core.query_engine import SubQuestionQueryEngine\n",
    "\n",
    "os.environ[\"OPENAI_API_KEY\"] = os.getenv('OPENAI_API_KEY')\n",
    "nest_asyncio.apply() # 중첩 실행 허용"
   ]
  },
  {
   "cell_type": "code",
   "execution_count": null,
   "metadata": {
    "id": "-Nv2Rn7EFHCf"
   },
   "outputs": [],
   "source": [
    "from llama_index.llms.openai import OpenAI\n",
    "\n",
    "# LLM 설정\n",
    "llm = OpenAI(model=\"gpt-4o\") # 원하는 LLM 모델 설정"
   ]
  },
  {
   "cell_type": "code",
   "execution_count": null,
   "metadata": {
    "id": "q3W0JDz-GvAt"
   },
   "outputs": [],
   "source": [
    "# '/content/drive/MyDrive/store/' 은 PDF 파일이 위치한 경로입니다.\n",
    "pdf_file = SimpleDirectoryReader(\n",
    "    input_dir = \"/content/drive/MyDrive/store\"\n",
    ").load_data()"
   ]
  },
  {
   "cell_type": "code",
   "execution_count": null,
   "metadata": {
    "id": "5kE-FuuKHUdl"
   },
   "outputs": [],
   "source": [
    "# 문서를 벡터로 변환하여 저장\n",
    "vector_query_engine = VectorStoreIndex.from_documents(\n",
    "    pdf_file,\n",
    "    use_async=True,\n",
    ").as_query_engine( ) # VectorStoreIndex를 기반으로 질의 응답 기능을 활성화"
   ]
  },
  {
   "cell_type": "code",
   "execution_count": null,
   "metadata": {
    "id": "Hjg5AKB_KW37"
   },
   "outputs": [],
   "source": [
    "query_engine_tools = [\n",
    "    QueryEngineTool(\n",
    "        query_engine = vector_query_engine,\n",
    "        metadata = ToolMetadata(\n",
    "            name = \"Q&A bot\",\n",
    "            description = \"당신은 사용자 질문에 답변하는 봇입니다.\",\n",
    "        ),\n",
    "    ),\n",
    "]   # 사용자 질문에 대한 답변 생성\n",
    "\n",
    "query_engine = SubQuestionQueryEngine.from_defaults(\n",
    "    query_engine_tools = query_engine_tools,\n",
    "    llm = llm,  # 추가된 LLM 사용\n",
    "    use_async = True,\n",
    ")   # 복잡한 질문을 하위 질문(Sub-Question)으로 분리하여 처리하고 결과를 조합"
   ]
  },
  {
   "cell_type": "code",
   "execution_count": null,
   "metadata": {
    "id": "Ba6fNwqtLXP7"
   },
   "outputs": [],
   "source": [
    "response = query_engine.query(\n",
    "    \"임산부를 위한 운동에는 어떤 운동이 있는지?\"\n",
    ")\n",
    "print(response)"
   ]
  },
  {
   "cell_type": "code",
   "execution_count": null,
   "metadata": {
    "id": "lc-MbxYZLswq"
   },
   "outputs": [],
   "source": []
  },
  {
   "cell_type": "code",
   "execution_count": null,
   "metadata": {
    "id": "bPDtJYISMKI3"
   },
   "outputs": [],
   "source": []
  }
 ],
 "metadata": {
  "colab": {
   "authorship_tag": "ABX9TyOoImUGM0VTCwkKYN+1LhrG",
   "mount_file_id": "15nuoOSCsIxXMPUZA3IU2a73sp5nCY4c0",
   "private_outputs": true,
   "provenance": []
  },
  "kernelspec": {
   "display_name": "Python 3",
   "name": "python3"
  },
  "language_info": {
   "name": "python"
  }
 },
 "nbformat": 4,
 "nbformat_minor": 0
}
